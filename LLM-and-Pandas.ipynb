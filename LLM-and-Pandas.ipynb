{
 "cells": [
  {
   "cell_type": "markdown",
   "id": "5b3efba2",
   "metadata": {
    "cell_marker": "\"\"\"",
    "lines_to_next_cell": 0
   },
   "source": [
    "# Using an LLM to interact with Pandas\n",
    "\n",
    "It is possible to use an LLM to interact with a Pandas dataframe, something that can be useful when encountering a large, new dataset with unfamiliar content. Basically, the scenario can be thought of as a combination of a simple [RAG][1] system combined with [tool-calling][2]. As the tool-calls are fairly complex, we'll make use of the [`llamaindex`][3] framework to do the [heavy lifting][4].\n",
    "\n",
    "**Caveat**: This is a bleeding edge technique and thus error prone, _and_ it uses python's `eval` function to execute code written by the LLM on your behalf which is a potential security risk. **Consider yourself warned.**\n",
    "\n",
    "[1]: ../RAG-tutorial/intro.ipynb\n",
    "[2]: ../LLM-tool-calling/LLM-tool-calling.ipynb\n",
    "[3]: https://www.llamaindex.ai\n",
    "[4]: https://docs.llamaindex.ai/en/stable/api_reference/query_engine/pandas/\n",
    "\n",
    "## Install prerequisites"
   ]
  },
  {
   "cell_type": "code",
   "execution_count": null,
   "id": "c8a0d20f",
   "metadata": {},
   "outputs": [],
   "source": [
    "!pip -q install ollama llama-index llama-index-experimental  llama-index-llms-ollama"
   ]
  },
  {
   "cell_type": "markdown",
   "id": "a001e23f",
   "metadata": {
    "cell_marker": "\"\"\"",
    "lines_to_next_cell": 0
   },
   "source": [
    "## A simple Pandas agent\n",
    "\n",
    "We will use the `titanic` dataset in `data/titanic.csv`, so import Pandas and load the dataset:"
   ]
  },
  {
   "cell_type": "code",
   "execution_count": null,
   "id": "009072b9",
   "metadata": {},
   "outputs": [],
   "source": [
    "import pandas as pd\n",
    "\n",
    "df = pd.read_csv(\"data/titanic.csv\")"
   ]
  },
  {
   "cell_type": "code",
   "execution_count": null,
   "id": "766e1f3d",
   "metadata": {},
   "outputs": [],
   "source": [
    "df.info()"
   ]
  },
  {
   "cell_type": "code",
   "execution_count": null,
   "id": "90655355",
   "metadata": {
    "lines_to_next_cell": 0
   },
   "outputs": [],
   "source": [
    "df.head()"
   ]
  },
  {
   "cell_type": "markdown",
   "id": "6a94941b",
   "metadata": {
    "cell_marker": "\"\"\"",
    "lines_to_next_cell": 0
   },
   "source": [
    "Let's first try a \"vanilla\" call with a simple question about the dataset:"
   ]
  },
  {
   "cell_type": "code",
   "execution_count": null,
   "id": "e5bfe8d8",
   "metadata": {},
   "outputs": [],
   "source": [
    "OLLAMA_HOST = 'http://10.129.20.4:9090'\n",
    "OLLAMA_MODEL = 'qwen2.5-coder:latest' # 'deepseek-coder-v2:latest' # 'deepseek-r1:70b' # 'llama3.3:latest'"
   ]
  },
  {
   "cell_type": "code",
   "execution_count": null,
   "id": "5bf841d3",
   "metadata": {
    "lines_to_next_cell": 0
   },
   "outputs": [],
   "source": [
    "from llama_index.llms.ollama import Ollama\n",
    "from llama_index.core import Settings\n",
    "from llama_index.experimental.query_engine import PandasQueryEngine\n",
    "\n",
    "Settings.llm = Ollama(model=OLLAMA_MODEL, base_url=OLLAMA_HOST)\n",
    "query_engine = PandasQueryEngine(df=df, verbose=False)\n",
    "response = query_engine.query(\n",
    "    \"What is the key for the column outlining survial?\",\n",
    ")"
   ]
  },
  {
   "cell_type": "code",
   "execution_count": null,
   "id": "9fe99e0d",
   "metadata": {
    "lines_to_next_cell": 0
   },
   "outputs": [],
   "source": [
    "print(response)"
   ]
  },
  {
   "cell_type": "markdown",
   "id": "b25c1dab",
   "metadata": {
    "cell_marker": "\"\"\""
   },
   "source": [
    "OK, hopefully you got \"Survived\" as response in accordance with the output from `df.info()` above."
   ]
  },
  {
   "cell_type": "markdown",
   "id": "d0e8fa82",
   "metadata": {
    "cell_marker": "\"\"\""
   },
   "source": [
    "## Query pipelines\n",
    "\n",
    "Let's dig into what just happened in detail by building our own query pipeline from scratch.\n",
    "\n",
    "### Prompt templates\n",
    "\n",
    "We can get the prompt templates used from the query_engine:"
   ]
  },
  {
   "cell_type": "code",
   "execution_count": null,
   "id": "23234a70",
   "metadata": {},
   "outputs": [],
   "source": [
    "prompts = query_engine.get_prompts()\n",
    "for key in prompts.keys():\n",
    "    print(key)\n",
    "    print(prompts[key].template)"
   ]
  },
  {
   "cell_type": "markdown",
   "id": "ad82950c",
   "metadata": {},
   "source": [
    "We could make up our own templates, but for now we'll us them as-is."
   ]
  },
  {
   "cell_type": "code",
   "execution_count": null,
   "id": "49cf54f7",
   "metadata": {
    "lines_to_next_cell": 2
   },
   "outputs": [],
   "source": []
  },
  {
   "cell_type": "code",
   "execution_count": null,
   "id": "8324affa",
   "metadata": {},
   "outputs": [],
   "source": [
    "from llama_index.core.query_pipeline import (QueryPipeline as QP, Link, InputComponent)\n",
    "from llama_index.experimental.query_engine.pandas import PandasInstructionParser\n",
    "from llama_index.llms.ollama import Ollama\n",
    "from llama_index.core import Settings\n",
    "from llama_index.core import PromptTemplate\n",
    "\n",
    "\n",
    "Settings.llm = Ollama(model=OLLAMA_MODEL, base_url=OLLAMA_HOST)"
   ]
  },
  {
   "cell_type": "markdown",
   "id": "e9891a90",
   "metadata": {
    "cell_marker": "\"\"\""
   },
   "source": [
    "## Instructions (prompts)"
   ]
  },
  {
   "cell_type": "code",
   "execution_count": null,
   "id": "82a62367",
   "metadata": {},
   "outputs": [],
   "source": [
    "instruction_str = (\n",
    "    \"1. Convert the query to executable Python code using Pandas.\\n\"\n",
    "    \"2. The final line of code should be a Python expression that can be called with the `eval()` function.\\n\"\n",
    "    \"3. The code should represent a solution to the query.\\n\"\n",
    "    \"4. PRINT ONLY THE EXPRESSION.\\n\"\n",
    "    \"5. Do not quote the expression.\\n\"\n",
    ")\n",
    "\n",
    "pandas_prompt_str = (\n",
    "    \"You are working with a pandas dataframe in Python.\\n\"\n",
    "    \"The name of the dataframe is `df`.\\n\"\n",
    "    \"This is the result of `print(df.head())`:\\n\"\n",
    "    \"{df_str}\\n\\n\"\n",
    "    \"Follow these instructions:\\n\"\n",
    "    \"{instruction_str}\\n\"\n",
    "    \"Query: {query_str}\\n\\n\"\n",
    "    \"Expression:\"\n",
    ")\n",
    "\n",
    "response_synthesis_prompt_str = (\n",
    "    \"Given an input question, synthesize a response from the query results.\\n\"\n",
    "    \"Query: {query_str}\\n\\n\"\n",
    "    \"Pandas Instructions (optional):\\n{pandas_instructions}\\n\\n\"\n",
    "    \"Pandas Output: {pandas_output}\\n\\n\"\n",
    "    \"Response: \"\n",
    ")\n",
    "\n",
    "pandas_prompt = PromptTemplate(pandas_prompt_str).partial_format(\n",
    "    instruction_str=instruction_str, df_str=df.head(5)\n",
    ")\n",
    "pandas_output_parser = PandasInstructionParser(df)\n",
    "response_synthesis_prompt = PromptTemplate(response_synthesis_prompt_str)\n",
    "# llm = OpenAI(model=\"gpt-3.5-turbo\")\n",
    "llm = Ollama(model=OLLAMA_MODEL, base_url=OLLAMA_HOST)"
   ]
  },
  {
   "cell_type": "code",
   "execution_count": null,
   "id": "0bdb5b5d",
   "metadata": {},
   "outputs": [],
   "source": [
    "print(pandas_prompt)"
   ]
  },
  {
   "cell_type": "markdown",
   "id": "f73f7c00",
   "metadata": {
    "cell_marker": "\"\"\""
   },
   "source": [
    "## Build Query Pipeline\n",
    "\n",
    "Looks like this: input query_str -> pandas_prompt -> llm1 -> pandas_output_parser -> response_synthesis_prompt -> llm2\n",
    "\n",
    "Additional connections to response_synthesis_prompt: llm1 -> pandas_instructions, and pandas_output_parser -> pandas_output.\n",
    "\n",
    "![Query pipeline](img/pipeline.png)"
   ]
  },
  {
   "cell_type": "code",
   "execution_count": null,
   "id": "64cb24a9",
   "metadata": {
    "lines_to_next_cell": 2
   },
   "outputs": [],
   "source": [
    "qp = QP(\n",
    "    modules={\n",
    "        \"input\": InputComponent(),\n",
    "        \"pandas_prompt\": pandas_prompt,\n",
    "        \"llm1\": llm,\n",
    "        \"pandas_output_parser\": pandas_output_parser,\n",
    "        \"response_synthesis_prompt\": response_synthesis_prompt,\n",
    "        \"llm2\": llm,\n",
    "    },\n",
    "    verbose=True,\n",
    ")\n",
    "qp.add_chain([\"input\", \"pandas_prompt\", \"llm1\", \"pandas_output_parser\"])\n",
    "qp.add_links(\n",
    "    [\n",
    "        Link(\"input\", \"response_synthesis_prompt\", dest_key=\"query_str\"),\n",
    "        Link(\n",
    "            \"llm1\", \"response_synthesis_prompt\", dest_key=\"pandas_instructions\"\n",
    "        ),\n",
    "        Link(\n",
    "            \"pandas_output_parser\",\n",
    "            \"response_synthesis_prompt\",\n",
    "            dest_key=\"pandas_output\",\n",
    "        ),\n",
    "    ]\n",
    ")\n",
    "# add link from response synthesis prompt to llm2\n",
    "qp.add_link(\"response_synthesis_prompt\", \"llm2\")"
   ]
  },
  {
   "cell_type": "code",
   "execution_count": null,
   "id": "2ce96afb",
   "metadata": {},
   "outputs": [],
   "source": [
    "response = qp.run(\n",
    "    query_str=\"What is the correlation between survival and age?\",\n",
    ")"
   ]
  },
  {
   "cell_type": "code",
   "execution_count": null,
   "id": "311305cf",
   "metadata": {},
   "outputs": [],
   "source": [
    "print(response.message.content)"
   ]
  },
  {
   "cell_type": "code",
   "execution_count": null,
   "id": "99adcfeb",
   "metadata": {},
   "outputs": [],
   "source": [
    "print(df.head())"
   ]
  },
  {
   "cell_type": "code",
   "execution_count": null,
   "id": "98b10e88",
   "metadata": {},
   "outputs": [],
   "source": [
    "response = qp.run(\n",
    "    query_str=\"What are the keys of the columns?\",\n",
    ")"
   ]
  },
  {
   "cell_type": "code",
   "execution_count": null,
   "id": "c3662c36",
   "metadata": {
    "lines_to_next_cell": 2
   },
   "outputs": [],
   "source": [
    "print(response.message.content)"
   ]
  },
  {
   "cell_type": "code",
   "execution_count": null,
   "id": "80ce7367",
   "metadata": {
    "lines_to_next_cell": 2
   },
   "outputs": [],
   "source": [
    "response = qp.run(\n",
    "    query_str=\"What is the key of the column outlining survial?\",\n",
    ")"
   ]
  },
  {
   "cell_type": "code",
   "execution_count": null,
   "id": "3878d333",
   "metadata": {},
   "outputs": [],
   "source": [
    "print(response.message.content)"
   ]
  },
  {
   "cell_type": "code",
   "execution_count": null,
   "id": "f2415a05",
   "metadata": {
    "lines_to_next_cell": 2
   },
   "outputs": [],
   "source": [
    "response = qp.run(\n",
    "    query_str=\"Generate python code to plot survival rate versus fare using matplotlib. Choose an appropriate binsize. Show plot as well as code.\",\n",
    ")"
   ]
  },
  {
   "cell_type": "code",
   "execution_count": null,
   "id": "505be02e",
   "metadata": {},
   "outputs": [],
   "source": [
    "print(response.message.content)"
   ]
  },
  {
   "cell_type": "code",
   "execution_count": null,
   "id": "75f86c98",
   "metadata": {},
   "outputs": [],
   "source": [
    "import pandas as pd\n",
    "import matplotlib.pyplot as plt\n",
    "\n",
    "# Assuming df is your DataFrame and it contains 'fare' and 'survived' columns\n",
    "df['fare'] = pd.to_numeric(df['fare'], errors='coerce')  # Ensure fare is numeric\n",
    "df = df.dropna(subset=['fare', 'survived'])  # Drop rows with missing values\n",
    "\n",
    "# Group by fare and calculate the mean survival rate\n",
    "survival_rate_by_fare = df.groupby('fare')['survived'].mean()\n",
    "\n",
    "# Plot the survival rate versus fare\n",
    "plt.figure(figsize=(10, 6))\n",
    "plt.bar(survival_rate_by_fare.index, survival_rate_by_fare.values, color='blue')\n",
    "plt.xlabel('Fare')\n",
    "plt.ylabel('Survival Rate')\n",
    "plt.title('Survival Rate vs Fare')\n",
    "plt.xticks(rotation=45)\n",
    "plt.grid(True)\n",
    "plt.show()"
   ]
  },
  {
   "cell_type": "code",
   "execution_count": null,
   "id": "685bbb83",
   "metadata": {},
   "outputs": [],
   "source": []
  }
 ],
 "metadata": {
  "jupytext": {
   "cell_markers": "\"\"\"",
   "formats": "ipynb,py:percent"
  },
  "kernelspec": {
   "display_name": "Python 3 (ipykernel)",
   "language": "python",
   "name": "python3"
  }
 },
 "nbformat": 4,
 "nbformat_minor": 5
}
