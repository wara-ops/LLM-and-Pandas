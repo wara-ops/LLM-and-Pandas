{
 "cells": [
  {
   "cell_type": "markdown",
   "id": "61e2bdc6",
   "metadata": {
    "cell_marker": "\"\"\"",
    "lines_to_next_cell": 0
   },
   "source": [
    "# Using an LLM to interact with Pandas\n",
    "\n",
    "It is possible to use an LLM to interact with a Pandas dataframe, something that can be useful when encountering a large, new dataset with unfamiliar content. Basically, the scenario can be thought of as a combination of a simple [RAG][1] system combined with [tool-calling][2]. As the tool-calls are fairly complex, we'll make use of the [`llamaindex`][3] framework to do the [heavy lifting][4].\n",
    "\n",
    "**Caveat**: This is a bleeding edge technique and thus error prone, _and_ it uses python's `eval` function to execute code written by the LLM on your behalf which is a potential security risk. **Consider yourself warned.**\n",
    "\n",
    "[1]: ../RAG-tutorial/intro.ipynb\n",
    "[2]: ../LLM-tool-calling/LLM-tool-calling.ipynb\n",
    "[3]: https://www.llamaindex.ai\n",
    "[4]: https://docs.llamaindex.ai/en/stable/api_reference/query_engine/pandas/\n",
    "\n",
    "## Install prerequisites"
   ]
  },
  {
   "cell_type": "code",
   "execution_count": null,
   "id": "2e224b9d",
   "metadata": {},
   "outputs": [],
   "source": [
    "!pip -q install ollama llama-index llama-index-experimental  llama-index-llms-ollama"
   ]
  },
  {
   "cell_type": "markdown",
   "id": "2b867458",
   "metadata": {
    "cell_marker": "\"\"\"",
    "lines_to_next_cell": 0
   },
   "source": [
    "## A simple Pandas agent\n",
    "\n",
    "We will use the `titanic` dataset in `data/titanic.csv`, so import Pandas and load the dataset:"
   ]
  },
  {
   "cell_type": "code",
   "execution_count": null,
   "id": "b4e79b93",
   "metadata": {},
   "outputs": [],
   "source": [
    "import pandas as pd\n",
    "\n",
    "df = pd.read_csv(\"data/titanic.csv\")"
   ]
  },
  {
   "cell_type": "code",
   "execution_count": null,
   "id": "7d63cd37",
   "metadata": {},
   "outputs": [],
   "source": [
    "df.info()"
   ]
  },
  {
   "cell_type": "code",
   "execution_count": null,
   "id": "798ba6b3",
   "metadata": {
    "lines_to_next_cell": 0
   },
   "outputs": [],
   "source": [
    "df.head()"
   ]
  },
  {
   "cell_type": "markdown",
   "id": "e60c2904",
   "metadata": {
    "cell_marker": "\"\"\"",
    "lines_to_next_cell": 0
   },
   "source": [
    "Let's first try a \"vanilla\" call with a simple question about the dataset:"
   ]
  },
  {
   "cell_type": "code",
   "execution_count": null,
   "id": "573ad672",
   "metadata": {},
   "outputs": [],
   "source": [
    "OLLAMA_HOST = 'http://10.129.20.4:9090'\n",
    "OLLAMA_MODEL = 'qwen2.5-coder:latest' # 'deepseek-coder-v2:latest' # 'deepseek-r1:70b' # 'llama3.3:latest'"
   ]
  },
  {
   "cell_type": "code",
   "execution_count": null,
   "id": "8a9ddbfa",
   "metadata": {
    "lines_to_next_cell": 0
   },
   "outputs": [],
   "source": [
    "from llama_index.llms.ollama import Ollama\n",
    "from llama_index.core import Settings\n",
    "from llama_index.experimental.query_engine import PandasQueryEngine\n",
    "\n",
    "Settings.llm = Ollama(model=OLLAMA_MODEL, base_url=OLLAMA_HOST)\n",
    "query_engine = PandasQueryEngine(df=df, verbose=False)\n",
    "response = query_engine.query(\n",
    "    \"What is the key for the column outlining survial?\",\n",
    ")"
   ]
  },
  {
   "cell_type": "code",
   "execution_count": null,
   "id": "787b40f6",
   "metadata": {},
   "outputs": [],
   "source": [
    "print(response)"
   ]
  },
  {
   "cell_type": "code",
   "execution_count": null,
   "id": "892769dc",
   "metadata": {
    "lines_to_next_cell": 0
   },
   "outputs": [],
   "source": [
    "# NOT \"from scratch\", just to get a look at default prompts\n",
    "from llama_index.experimental.query_engine import PandasQueryEngine\n",
    "query_engine = PandasQueryEngine(df=df, verbose=True)\n",
    "# prompts = query_engine.get_prompts()\n",
    "# for key in prompts.keys():\n",
    "#     print(key)\n",
    "#     print(prompts[key].template)\n",
    "response = query_engine.query(\n",
    "    \"What is the correlation between survival and age?\",\n",
    ")"
   ]
  },
  {
   "cell_type": "code",
   "execution_count": null,
   "id": "1e2c32a9",
   "metadata": {},
   "outputs": [],
   "source": [
    "print(response)"
   ]
  },
  {
   "cell_type": "code",
   "execution_count": null,
   "id": "498ab91f",
   "metadata": {},
   "outputs": [],
   "source": [
    "from llama_index.core.query_pipeline import (QueryPipeline as QP, Link, InputComponent)\n",
    "from llama_index.experimental.query_engine.pandas import PandasInstructionParser\n",
    "from llama_index.llms.ollama import Ollama\n",
    "from llama_index.core import Settings\n",
    "from llama_index.core import PromptTemplate\n",
    "\n",
    "\n",
    "Settings.llm = Ollama(model=OLLAMA_MODEL, base_url=OLLAMA_HOST)"
   ]
  },
  {
   "cell_type": "markdown",
   "id": "cb1ab041",
   "metadata": {
    "cell_marker": "\"\"\""
   },
   "source": [
    "## Instructions (prompts)"
   ]
  },
  {
   "cell_type": "code",
   "execution_count": null,
   "id": "7146d465",
   "metadata": {},
   "outputs": [],
   "source": [
    "instruction_str = (\n",
    "    \"1. Convert the query to executable Python code using Pandas.\\n\"\n",
    "    \"2. The final line of code should be a Python expression that can be called with the `eval()` function.\\n\"\n",
    "    \"3. The code should represent a solution to the query.\\n\"\n",
    "    \"4. PRINT ONLY THE EXPRESSION.\\n\"\n",
    "    \"5. Do not quote the expression.\\n\"\n",
    ")\n",
    "\n",
    "pandas_prompt_str = (\n",
    "    \"You are working with a pandas dataframe in Python.\\n\"\n",
    "    \"The name of the dataframe is `df`.\\n\"\n",
    "    \"This is the result of `print(df.head())`:\\n\"\n",
    "    \"{df_str}\\n\\n\"\n",
    "    \"Follow these instructions:\\n\"\n",
    "    \"{instruction_str}\\n\"\n",
    "    \"Query: {query_str}\\n\\n\"\n",
    "    \"Expression:\"\n",
    ")\n",
    "\n",
    "response_synthesis_prompt_str = (\n",
    "    \"Given an input question, synthesize a response from the query results.\\n\"\n",
    "    \"Query: {query_str}\\n\\n\"\n",
    "    \"Pandas Instructions (optional):\\n{pandas_instructions}\\n\\n\"\n",
    "    \"Pandas Output: {pandas_output}\\n\\n\"\n",
    "    \"Response: \"\n",
    ")\n",
    "\n",
    "pandas_prompt = PromptTemplate(pandas_prompt_str).partial_format(\n",
    "    instruction_str=instruction_str, df_str=df.head(5)\n",
    ")\n",
    "pandas_output_parser = PandasInstructionParser(df)\n",
    "response_synthesis_prompt = PromptTemplate(response_synthesis_prompt_str)\n",
    "# llm = OpenAI(model=\"gpt-3.5-turbo\")\n",
    "llm = Ollama(model=OLLAMA_MODEL, base_url=OLLAMA_HOST)"
   ]
  },
  {
   "cell_type": "code",
   "execution_count": null,
   "id": "0b9f78f0",
   "metadata": {},
   "outputs": [],
   "source": [
    "print(pandas_prompt)"
   ]
  },
  {
   "cell_type": "markdown",
   "id": "9c27ffd4",
   "metadata": {
    "cell_marker": "\"\"\""
   },
   "source": [
    "## Build Query Pipeline\n",
    "\n",
    "Looks like this: input query_str -> pandas_prompt -> llm1 -> pandas_output_parser -> response_synthesis_prompt -> llm2\n",
    "\n",
    "Additional connections to response_synthesis_prompt: llm1 -> pandas_instructions, and pandas_output_parser -> pandas_output.\n",
    "\n",
    "![Query pipeline](img/pipeline.png)"
   ]
  },
  {
   "cell_type": "code",
   "execution_count": null,
   "id": "64ba0a69",
   "metadata": {
    "lines_to_next_cell": 2
   },
   "outputs": [],
   "source": [
    "qp = QP(\n",
    "    modules={\n",
    "        \"input\": InputComponent(),\n",
    "        \"pandas_prompt\": pandas_prompt,\n",
    "        \"llm1\": llm,\n",
    "        \"pandas_output_parser\": pandas_output_parser,\n",
    "        \"response_synthesis_prompt\": response_synthesis_prompt,\n",
    "        \"llm2\": llm,\n",
    "    },\n",
    "    verbose=True,\n",
    ")\n",
    "qp.add_chain([\"input\", \"pandas_prompt\", \"llm1\", \"pandas_output_parser\"])\n",
    "qp.add_links(\n",
    "    [\n",
    "        Link(\"input\", \"response_synthesis_prompt\", dest_key=\"query_str\"),\n",
    "        Link(\n",
    "            \"llm1\", \"response_synthesis_prompt\", dest_key=\"pandas_instructions\"\n",
    "        ),\n",
    "        Link(\n",
    "            \"pandas_output_parser\",\n",
    "            \"response_synthesis_prompt\",\n",
    "            dest_key=\"pandas_output\",\n",
    "        ),\n",
    "    ]\n",
    ")\n",
    "# add link from response synthesis prompt to llm2\n",
    "qp.add_link(\"response_synthesis_prompt\", \"llm2\")"
   ]
  },
  {
   "cell_type": "code",
   "execution_count": null,
   "id": "d3d3b3a5",
   "metadata": {},
   "outputs": [],
   "source": [
    "response = qp.run(\n",
    "    query_str=\"What is the correlation between survival and age?\",\n",
    ")"
   ]
  },
  {
   "cell_type": "code",
   "execution_count": null,
   "id": "55463432",
   "metadata": {},
   "outputs": [],
   "source": [
    "print(response.message.content)"
   ]
  },
  {
   "cell_type": "code",
   "execution_count": null,
   "id": "e5d129d8",
   "metadata": {},
   "outputs": [],
   "source": [
    "print(df.head())"
   ]
  },
  {
   "cell_type": "code",
   "execution_count": null,
   "id": "bf837c1d",
   "metadata": {},
   "outputs": [],
   "source": [
    "response = qp.run(\n",
    "    query_str=\"What are the keys of the columns?\",\n",
    ")"
   ]
  },
  {
   "cell_type": "code",
   "execution_count": null,
   "id": "50dfb581",
   "metadata": {
    "lines_to_next_cell": 2
   },
   "outputs": [],
   "source": [
    "print(response.message.content)"
   ]
  },
  {
   "cell_type": "code",
   "execution_count": null,
   "id": "8d4f97d6",
   "metadata": {
    "lines_to_next_cell": 2
   },
   "outputs": [],
   "source": [
    "response = qp.run(\n",
    "    query_str=\"What is the key of the column outlining survial?\",\n",
    ")"
   ]
  },
  {
   "cell_type": "code",
   "execution_count": null,
   "id": "0b795b53",
   "metadata": {},
   "outputs": [],
   "source": [
    "print(response.message.content)"
   ]
  },
  {
   "cell_type": "code",
   "execution_count": null,
   "id": "56a68d2e",
   "metadata": {
    "lines_to_next_cell": 2
   },
   "outputs": [],
   "source": [
    "response = qp.run(\n",
    "    query_str=\"Generate python code to plot survival rate versus fare using matplotlib. Choose an appropriate binsize. Show plot as well as code.\",\n",
    ")"
   ]
  },
  {
   "cell_type": "code",
   "execution_count": null,
   "id": "7bd71a6d",
   "metadata": {},
   "outputs": [],
   "source": [
    "print(response.message.content)"
   ]
  },
  {
   "cell_type": "code",
   "execution_count": null,
   "id": "12739c26",
   "metadata": {},
   "outputs": [],
   "source": [
    "import pandas as pd\n",
    "import matplotlib.pyplot as plt\n",
    "\n",
    "# Assuming df is your DataFrame and it contains 'fare' and 'survived' columns\n",
    "df['fare'] = pd.to_numeric(df['fare'], errors='coerce')  # Ensure fare is numeric\n",
    "df = df.dropna(subset=['fare', 'survived'])  # Drop rows with missing values\n",
    "\n",
    "# Group by fare and calculate the mean survival rate\n",
    "survival_rate_by_fare = df.groupby('fare')['survived'].mean()\n",
    "\n",
    "# Plot the survival rate versus fare\n",
    "plt.figure(figsize=(10, 6))\n",
    "plt.bar(survival_rate_by_fare.index, survival_rate_by_fare.values, color='blue')\n",
    "plt.xlabel('Fare')\n",
    "plt.ylabel('Survival Rate')\n",
    "plt.title('Survival Rate vs Fare')\n",
    "plt.xticks(rotation=45)\n",
    "plt.grid(True)\n",
    "plt.show()"
   ]
  },
  {
   "cell_type": "code",
   "execution_count": null,
   "id": "0eea9f53",
   "metadata": {},
   "outputs": [],
   "source": []
  }
 ],
 "metadata": {
  "jupytext": {
   "cell_markers": "\"\"\"",
   "formats": "ipynb,py:percent"
  },
  "kernelspec": {
   "display_name": "Python 3 (ipykernel)",
   "language": "python",
   "name": "python3"
  }
 },
 "nbformat": 4,
 "nbformat_minor": 5
}
