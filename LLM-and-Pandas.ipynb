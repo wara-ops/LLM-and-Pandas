{
 "cells": [
  {
   "cell_type": "markdown",
   "id": "8e47c64c",
   "metadata": {
    "cell_marker": "\"\"\"",
    "lines_to_next_cell": 0
   },
   "source": [
    "# Using an LLM to interact with Pandas\n",
    "\n",
    "It is possible to use an LLM to interact with a Pandas dataframe, something that can be useful when encountering a large, new dataset with unfamiliar content. Basically, the scenario can be thought of as a combination of a simple [RAG][1] system combined with [tool-calling][2]. As the tool-calls are fairly complex, we'll make use of the [llamaindex framework][3] to do the [heavy lifting (docs)][4].\n",
    "\n",
    "**Caveat**: This is a bleeding edge technique and thus error prone, _and_ it uses python's `eval` function to execute code written by the LLM on your behalf which is a potential security risk. **Consider yourself warned.**\n",
    "\n",
    "[1]: ../RAG-tutorial/intro.ipynb\n",
    "[2]: ../LLM-tool-calling/LLM-tool-calling.ipynb\n",
    "[3]: https://www.llamaindex.ai\n",
    "[4]: https://docs.llamaindex.ai/en/stable/api_reference/query_engine/pandas/"
   ]
  },
  {
   "cell_type": "markdown",
   "id": "c7223e88",
   "metadata": {
    "cell_marker": "\"\"\""
   },
   "source": [
    "## The big picture\n",
    "\n",
    "The process will look something like the following figure (compare to the [RAG setup][1])\n",
    "\n",
    "![Query pipeline](img/pipeline.png)\n",
    "\n",
    "1. The user inputs a query which is transformed into a first prompt, adding information about the Pandas dataframe to target before feeding the prompt to the LLM.\n",
    "2. The LLM processes the first prompt and make [_tool calls_][2] to Pandas to produce intermediary output (containing code, data and further instructions).\n",
    "3. The output is combined with the original query to form a second prompt.\n",
    "4. The second prompt is fed to the LLM to generate an answer to the user query.\n",
    "\n",
    "[1]: ../RAG-tutorial/intro.ipynb\n",
    "[2]: ../LLM-tool-calling/LLM-tool-calling.ipynb"
   ]
  },
  {
   "cell_type": "markdown",
   "id": "7079c625",
   "metadata": {
    "cell_marker": "\"\"\"",
    "lines_to_next_cell": 0
   },
   "source": [
    "## Install prerequisites"
   ]
  },
  {
   "cell_type": "code",
   "execution_count": null,
   "id": "636dfb9f",
   "metadata": {},
   "outputs": [],
   "source": [
    "!pip -q install ollama llama-index llama-index-experimental  llama-index-llms-ollama"
   ]
  },
  {
   "cell_type": "markdown",
   "id": "6bd0b38f",
   "metadata": {
    "cell_marker": "\"\"\"",
    "lines_to_next_cell": 0
   },
   "source": [
    "## A simple Pandas agent\n",
    "\n",
    "As an example, we will use the [titanic dataset](https://jkarakas.github.io/Exploratory-Analysis-of-the-Titanic-Dataset/Titanic_Dataset_Exploratory_Analysis_No_Code.html) in `data/titanic.csv`, so let's import Pandas and load the dataset:"
   ]
  },
  {
   "cell_type": "code",
   "execution_count": null,
   "id": "e142763c",
   "metadata": {},
   "outputs": [],
   "source": [
    "import pandas as pd\n",
    "\n",
    "df = pd.read_csv(\"data/titanic.csv\")"
   ]
  },
  {
   "cell_type": "code",
   "execution_count": null,
   "id": "4364f2d1",
   "metadata": {},
   "outputs": [],
   "source": [
    "df.info()"
   ]
  },
  {
   "cell_type": "code",
   "execution_count": null,
   "id": "82a0b547",
   "metadata": {
    "lines_to_next_cell": 0
   },
   "outputs": [],
   "source": [
    "df.head()"
   ]
  },
  {
   "cell_type": "markdown",
   "id": "1cdbf87b",
   "metadata": {
    "cell_marker": "\"\"\"",
    "lines_to_next_cell": 0
   },
   "source": [
    "Let's first try a \"vanilla\" call with a simple question about the dataset:"
   ]
  },
  {
   "cell_type": "code",
   "execution_count": null,
   "id": "e3fd3ae4",
   "metadata": {},
   "outputs": [],
   "source": [
    "OLLAMA_HOST = 'http://10.129.20.4:9090'\n",
    "OLLAMA_MODEL = 'qwen2.5-coder:latest' # 'deepseek-coder-v2:latest' # 'deepseek-r1:70b' # 'llama3.3:latest'"
   ]
  },
  {
   "cell_type": "code",
   "execution_count": null,
   "id": "d5f543ec",
   "metadata": {
    "lines_to_next_cell": 0
   },
   "outputs": [],
   "source": [
    "from llama_index.llms.ollama import Ollama\n",
    "from llama_index.core import Settings\n",
    "from llama_index.experimental.query_engine import PandasQueryEngine\n",
    "\n",
    "Settings.llm = Ollama(model=OLLAMA_MODEL, base_url=OLLAMA_HOST)\n",
    "query_engine = PandasQueryEngine(df=df, verbose=False)\n",
    "response = query_engine.query(\n",
    "    \"What is the key for the column outlining survival?\",\n",
    ")"
   ]
  },
  {
   "cell_type": "code",
   "execution_count": null,
   "id": "0e1ef997",
   "metadata": {
    "lines_to_next_cell": 0
   },
   "outputs": [],
   "source": [
    "print(response)"
   ]
  },
  {
   "cell_type": "markdown",
   "id": "3bd94553",
   "metadata": {
    "cell_marker": "\"\"\""
   },
   "source": [
    "OK, hopefully you got \"Survived\" as response in accordance with the output from `df.info()` above. If not, just re-run the above cell until you do :)"
   ]
  },
  {
   "cell_type": "markdown",
   "id": "bb2e2b96",
   "metadata": {
    "cell_marker": "\"\"\""
   },
   "source": [
    "## Query pipelines\n",
    "\n",
    "Let's dig into what just happened in detail by building our own query pipeline from scratch.\n",
    "\n",
    "### Prompt templates\n",
    "\n",
    "We can get a peek at the prompt templates used by retrieving them from the query_engine:"
   ]
  },
  {
   "cell_type": "code",
   "execution_count": null,
   "id": "fa2d7da6",
   "metadata": {},
   "outputs": [],
   "source": [
    "prompts = query_engine.get_prompts()\n",
    "for key in prompts.keys():\n",
    "    print(f\"--- {key} ---\\n\")\n",
    "    print(prompts[key].template)\n",
    "    print()"
   ]
  },
  {
   "cell_type": "markdown",
   "id": "405cc92f",
   "metadata": {
    "cell_marker": "\"\"\"",
    "lines_to_next_cell": 0
   },
   "source": [
    "We *could* make up our own templates, but for now we'll us them as-is."
   ]
  },
  {
   "cell_type": "code",
   "execution_count": null,
   "id": "5371815d",
   "metadata": {
    "lines_to_next_cell": 0
   },
   "outputs": [],
   "source": [
    "pandas_prompt_str = (\n",
    "    \"You are working with a pandas dataframe in Python.\\n\"\n",
    "    \"The name of the dataframe is `df`.\\n\"\n",
    "    \"This is the result of `print(df.head())`:\\n\"\n",
    "    \"{df_str}\\n\\n\"\n",
    "    \"Follow these instructions:\\n\"\n",
    "    \"{instruction_str}\\n\"\n",
    "    \"Query: {query_str}\\n\\n\"\n",
    "    \"Expression:\"\n",
    ")\n",
    "\n",
    "response_synthesis_prompt_str = (\n",
    "    \"Given an input question, synthesize a response from the query results.\\n\"\n",
    "    \"Query: {query_str}\\n\\n\"\n",
    "    \"Pandas Instructions (optional):\\n{pandas_instructions}\\n\\n\"\n",
    "    \"Pandas Output: {pandas_output}\\n\\n\"\n",
    "    \"Response: \"\n",
    ")"
   ]
  },
  {
   "cell_type": "markdown",
   "id": "d9248e3b",
   "metadata": {
    "cell_marker": "\"\"\"",
    "lines_to_next_cell": 0
   },
   "source": [
    "The default `instruction_str` is:"
   ]
  },
  {
   "cell_type": "code",
   "execution_count": null,
   "id": "a87d2c9f",
   "metadata": {
    "lines_to_next_cell": 0
   },
   "outputs": [],
   "source": [
    "instruction_str = (\n",
    "    \"1. Convert the query to executable Python code using Pandas.\\n\"\n",
    "    \"2. The final line of code should be a Python expression that can be called with the `eval()` function.\\n\"\n",
    "    \"3. The code should represent a solution to the query.\\n\"\n",
    "    \"4. PRINT ONLY THE EXPRESSION.\\n\"\n",
    "    \"5. Do not quote the expression.\\n\"\n",
    ")"
   ]
  },
  {
   "cell_type": "markdown",
   "id": "0a906b0d",
   "metadata": {
    "cell_marker": "\"\"\"",
    "lines_to_next_cell": 0
   },
   "source": [
    "## Build a Query Pipeline\n",
    "\n",
    "As we'll dive into `llamaindex` consider having the [docs for llamaindex *pipelines*][1] readily available.\n",
    "\n",
    "But first let's set up a small helper function to aid in debugging;\n",
    "\n",
    "[1]: https://docs.llamaindex.ai/en/stable/examples/pipeline/query_pipeline/"
   ]
  },
  {
   "cell_type": "code",
   "execution_count": null,
   "id": "b5da3837",
   "metadata": {
    "lines_to_next_cell": 0
   },
   "outputs": [],
   "source": [
    "!pip -q install pyvis"
   ]
  },
  {
   "cell_type": "code",
   "execution_count": null,
   "id": "3492c5aa",
   "metadata": {
    "lines_to_next_cell": 1
   },
   "outputs": [],
   "source": [
    "## Helper function to visualize a pipeline\n",
    "from pyvis.network import Network\n",
    "from IPython.display import display, HTML\n",
    "\n",
    "def showPipeline(pipeline):\n",
    "    dag = Network(notebook=True, cdn_resources=\"in_line\", directed=True)\n",
    "    dag.from_nx(pipeline.dag)\n",
    "    display(HTML(dag.generate_html()))"
   ]
  },
  {
   "cell_type": "markdown",
   "id": "2eda874c",
   "metadata": {
    "cell_marker": "\"\"\"",
    "lines_to_next_cell": 0
   },
   "source": [
    "Start with importing the necessary modules, and set up an LLM client:"
   ]
  },
  {
   "cell_type": "code",
   "execution_count": null,
   "id": "741a8106",
   "metadata": {},
   "outputs": [],
   "source": [
    "from llama_index.llms.ollama import Ollama\n",
    "from llama_index.core import PromptTemplate\n",
    "from llama_index.core.query_pipeline import QueryPipeline\n",
    "from llama_index.core.query_pipeline import InputComponent\n",
    "from llama_index.experimental.query_engine.pandas import PandasInstructionParser\n",
    "\n",
    "OLLAMA_HOST = 'http://10.129.20.4:9090'\n",
    "OLLAMA_MODEL = 'qwen2.5-coder:latest' # 'deepseek-coder-v2:latest' # 'deepseek-r1:70b' # 'llama3.3:latest'\n",
    "\n",
    "llm = Ollama(model=OLLAMA_MODEL, base_url=OLLAMA_HOST)"
   ]
  },
  {
   "cell_type": "markdown",
   "id": "3ffebb92",
   "metadata": {
    "cell_marker": "\"\"\"",
    "lines_to_next_cell": 0
   },
   "source": [
    "Then prepare the prompts using the above templates:"
   ]
  },
  {
   "cell_type": "code",
   "execution_count": null,
   "id": "b58ba8fa",
   "metadata": {},
   "outputs": [],
   "source": [
    "pandas_prompt = PromptTemplate(pandas_prompt_str).partial_format(instruction_str=instruction_str, df_str=df.head(5))\n",
    "\n",
    "response_synthesis_prompt = PromptTemplate(response_synthesis_prompt_str)"
   ]
  },
  {
   "cell_type": "markdown",
   "id": "22b93a8d",
   "metadata": {
    "cell_marker": "\"\"\"",
    "lines_to_next_cell": 0
   },
   "source": [
    "To interact with Pandas, we'll use [PandasInstructionParser][1]:\n",
    "\n",
    "[1]: https://docs.llamaindex.ai/en/stable/api_reference/query_engine/pandas/#llama_index.experimental.query_engine.PandasQueryEngine"
   ]
  },
  {
   "cell_type": "code",
   "execution_count": null,
   "id": "8ed460f0",
   "metadata": {
    "lines_to_next_cell": 0
   },
   "outputs": [],
   "source": [
    "pandas_output_parser = PandasInstructionParser(df)"
   ]
  },
  {
   "cell_type": "markdown",
   "id": "28fec658",
   "metadata": {
    "cell_marker": "\"\"\"",
    "lines_to_next_cell": 0
   },
   "source": [
    "Next we'll instantiate an empty pipeline and define the pieces we'll use. Setting `verbose=True` provides outpu from each stage, helping in debugging."
   ]
  },
  {
   "cell_type": "code",
   "execution_count": null,
   "id": "dc24bf80",
   "metadata": {
    "lines_to_next_cell": 0
   },
   "outputs": [],
   "source": [
    "\n",
    "query_pipeline = QueryPipeline(verbose=True)\n",
    "query_pipeline.add_modules(\n",
    "    {\n",
    "        \"input\": InputComponent(),\n",
    "        \"pandas_prompt\": pandas_prompt,\n",
    "        \"llm1\": llm,\n",
    "        \"pandas_output_parser\": pandas_output_parser,\n",
    "        \"response_synthesis_prompt\": response_synthesis_prompt,\n",
    "        \"llm2\": llm,\n",
    "    }\n",
    ")"
   ]
  },
  {
   "cell_type": "markdown",
   "id": "08c06cd4",
   "metadata": {
    "cell_marker": "\"\"\"",
    "lines_to_next_cell": 0
   },
   "source": [
    "To make the pipeline useful, we need to specify the processing steps. Take a look at the figure at the start of this tutorial and you'll see that the processing steps form a *graph*, more precisely a [Directed Acyclic Graph][1] (DAG). Starting from the input we can add the first *edges* between the *node* defined in `add_modules` above in a from->to style:\n",
    "\n",
    "[1]: https://en.wikipedia.org/wiki/Directed_acyclic_graph"
   ]
  },
  {
   "cell_type": "code",
   "execution_count": null,
   "id": "dced215a",
   "metadata": {
    "lines_to_next_cell": 0
   },
   "outputs": [],
   "source": [
    "query_pipeline.add_link(\"input\", \"pandas_prompt\")\n",
    "query_pipeline.add_link(\"pandas_prompt\", \"llm1\")\n",
    "query_pipeline.add_link(\"llm1\", \"pandas_output_parser\")"
   ]
  },
  {
   "cell_type": "markdown",
   "id": "51bdd241",
   "metadata": {
    "cell_marker": "\"\"\"",
    "lines_to_next_cell": 0
   },
   "source": [
    "As you recall, the `response_synthesis_prompt` takes three different inputs (`query_str`, `pandas_output`, and `pandas_instructions`) that are provided from three different processing nodes. In order to make each input end up in the right place, use the optional argument `dest_key` when adding the edges:"
   ]
  },
  {
   "cell_type": "code",
   "execution_count": null,
   "id": "0b6138e3",
   "metadata": {
    "lines_to_next_cell": 0
   },
   "outputs": [],
   "source": [
    "query_pipeline.add_link(\"pandas_output_parser\", \"response_synthesis_prompt\", dest_key=\"pandas_output\")\n",
    "query_pipeline.add_link(\"llm1\", \"response_synthesis_prompt\", dest_key=\"pandas_instructions\")\n",
    "query_pipeline.add_link(\"input\", \"response_synthesis_prompt\", dest_key=\"query_str\")"
   ]
  },
  {
   "cell_type": "markdown",
   "id": "8e7a1db0",
   "metadata": {
    "cell_marker": "\"\"\"",
    "lines_to_next_cell": 0
   },
   "source": [
    "Finally, pass the combined result as a prompt to the final LLM processing step:"
   ]
  },
  {
   "cell_type": "code",
   "execution_count": null,
   "id": "daf98aef",
   "metadata": {
    "lines_to_next_cell": 0
   },
   "outputs": [],
   "source": [
    "query_pipeline.add_link(\"response_synthesis_prompt\", \"llm2\")"
   ]
  },
  {
   "cell_type": "markdown",
   "id": "659138e9",
   "metadata": {
    "cell_marker": "\"\"\"",
    "lines_to_next_cell": 0
   },
   "source": [
    "We can use the previously defined helper function to visualize the pipeline DAG and check that it looks OK:"
   ]
  },
  {
   "cell_type": "code",
   "execution_count": null,
   "id": "464e4a77",
   "metadata": {
    "lines_to_next_cell": 0
   },
   "outputs": [],
   "source": [
    "showPipeline(query_pipeline)"
   ]
  },
  {
   "cell_type": "markdown",
   "id": "80af43f1",
   "metadata": {
    "cell_marker": "\"\"\"",
    "lines_to_next_cell": 0
   },
   "source": [
    "With that we are ready to run our homegrown pipeline:"
   ]
  },
  {
   "cell_type": "code",
   "execution_count": null,
   "id": "487dee56",
   "metadata": {
    "lines_to_next_cell": 0
   },
   "outputs": [],
   "source": [
    "response = query_pipeline.run(\n",
    "    query_str=\"What is the key for the column outlining survival?\",\n",
    ")\n",
    "print(response)"
   ]
  },
  {
   "cell_type": "markdown",
   "id": "d23926e5",
   "metadata": {
    "cell_marker": "\"\"\"",
    "lines_to_next_cell": 0
   },
   "source": [
    "## Examing the fragile pipeline\n",
    "\n",
    "Sometimes the first LLM invocation jumps to conclusions and directly responds with the name of the column rather then the _python code required_, see below, by the second LLM invocation, which causes an exception (try to explain why to yourself).\n",
    "\n",
    "**Bad output example**\n",
    "\n",
    "```\n",
    "> Running module input with input:\n",
    "query_str: What is the key for the column outlining survival?\n",
    "\n",
    "> Running module pandas_prompt with input:\n",
    "query_str: What is the key for the column outlining survival?\n",
    "\n",
    "> Running module llm1 with input:\n",
    "messages: You are working with a pandas dataframe in Python.\n",
    "The name of the dataframe is `df`.\n",
    "This is the result of `print(df.head())`:\n",
    "   Survived  Pclass                                               Name  ...\n",
    "\n",
    "INFO:httpx:HTTP Request: POST http://10.129.20.4:9090/api/chat \"HTTP/1.1 200 OK\"\n",
    "HTTP Request: POST http://10.129.20.4:9090/api/chat \"HTTP/1.1 200 OK\"\n",
    "> Running module pandas_output_parser with input:\n",
    "input: assistant: Survived\n",
    "\n",
    "> Running module response_synthesis_prompt with input:\n",
    "query_str: What is the key for the column outlining survival?\n",
    "pandas_instructions: assistant: Survived\n",
    "pandas_output: There was an error running the output as Python code. Error message: name 'Survived' is not defined\n",
    "\n",
    "...\n",
    "```\n",
    "\n",
    "Looking at line 2 of `instruction_str`:\n",
    "```\n",
    "\"2. The final line of code should be a Python expression that can be called with the `eval()` function.\\n\"\n",
    "```\n",
    "the problem is most likely that the first LLM derives and outputs the key \"Survived\" directly instead of _the code_ to retrieve the key, e.g. `df.columns[0]`. You cannot run `eval()` on a string.\n",
    "\n",
    "**Excercise**: See if you can change the instructions to fix this problem."
   ]
  },
  {
   "cell_type": "markdown",
   "id": "cfdbd7d8",
   "metadata": {
    "cell_marker": "\"\"\"",
    "lines_to_next_cell": 0
   },
   "source": [
    "## More complicated queries\n",
    "\n",
    "Don't expect queries to work every time, re-run until they do. The sucess rate depends on e.g. which LLM model you have chosen.\n",
    "\n",
    "**Excercise**: Try with different models, just make sure that they are capable of tool-calling."
   ]
  },
  {
   "cell_type": "code",
   "execution_count": null,
   "id": "d152792c",
   "metadata": {
    "lines_to_next_cell": 0
   },
   "outputs": [],
   "source": [
    "response = query_pipeline.run(\n",
    "    query_str=\"What is the correlation between survival and age?\",\n",
    ")\n",
    "print(response.message.content)"
   ]
  },
  {
   "cell_type": "code",
   "execution_count": null,
   "id": "c6031a36",
   "metadata": {},
   "outputs": [],
   "source": [
    "response = query_pipeline.run(\n",
    "    query_str=\"Generate python code to plot survival rate versus fare using matplotlib. Choose an appropriate binsize. Show plot as well as code.\",\n",
    ")\n",
    "print(response.message.content)"
   ]
  },
  {
   "cell_type": "code",
   "execution_count": null,
   "id": "f2b5b55f",
   "metadata": {},
   "outputs": [],
   "source": []
  }
 ],
 "metadata": {
  "jupytext": {
   "cell_markers": "\"\"\"",
   "formats": "ipynb,py:percent"
  },
  "kernelspec": {
   "display_name": "Python 3 (ipykernel)",
   "language": "python",
   "name": "python3"
  }
 },
 "nbformat": 4,
 "nbformat_minor": 5
}
