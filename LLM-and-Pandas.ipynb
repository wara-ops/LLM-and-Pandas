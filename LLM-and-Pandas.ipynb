{
 "cells": [
  {
   "cell_type": "markdown",
   "id": "04518f88",
   "metadata": {
    "cell_marker": "\"\"\"",
    "lines_to_next_cell": 0
   },
   "source": [
    "# Using an LLM to interact with Pandas\n",
    "\n",
    "It is possible to use an LLM to interact with a Pandas dataframe, something that can be useful when encountering a large, new dataset with unfamiliar content. Basically, the scenario can be thought of as a combination of a simple [RAG][1] system combined with [tool-calling][2]. As the tool-calls are fairly complex, we'll make use of the [`llamaindex` framework][3] to do the [heavy lifting (docs)][4].\n",
    "\n",
    "**Caveat**: This is a bleeding edge technique and thus error prone, _and_ it uses python's `eval` function to execute code written by the LLM on your behalf which is a potential security risk. **Consider yourself warned.**\n",
    "\n",
    "[1]: ../RAG-tutorial/intro.ipynb\n",
    "[2]: ../LLM-tool-calling/LLM-tool-calling.ipynb\n",
    "[3]: https://www.llamaindex.ai\n",
    "[4]: https://docs.llamaindex.ai/en/stable/api_reference/query_engine/pandas/\n",
    "\n",
    "## Install prerequisites"
   ]
  },
  {
   "cell_type": "code",
   "execution_count": null,
   "id": "76f827fc",
   "metadata": {},
   "outputs": [],
   "source": [
    "!pip -q install ollama llama-index llama-index-experimental  llama-index-llms-ollama"
   ]
  },
  {
   "cell_type": "markdown",
   "id": "9003d884",
   "metadata": {
    "cell_marker": "\"\"\"",
    "lines_to_next_cell": 2
   },
   "source": [
    "## A simple Pandas agent\n",
    "\n",
    "### The big picture\n",
    "\n",
    "The process will look something like the following figure (compare to the [RAG setup][1])\n",
    "\n",
    "![Query pipeline](img/pipeline.png)\n",
    "\n",
    "\n",
    "1. The user inputs a query which is transformed into a first prompt, adding information about the Pandas dataframe to target before feeding the prompt to the LLM.\n",
    "2. The LLM processes the first prompt and make [_tool calls_][2] to Pandas to produce intermediary output (containing code, data and further instructions).\n",
    "3. The output is combined with the original query to form a second prompt.\n",
    "4. The second prompt is fed to the LLM to generate an answer to the user query.\n",
    "\n",
    "<!-- Looks like this: input query_str -> pandas_prompt -> llm1 -> pandas_output_parser -> response_synthesis_prompt -> llm2\n",
    "\n",
    "Additional connections to response_synthesis_prompt: llm1 -> pandas_instructions, and pandas_output_parser -> pandas_output. -->\n",
    "\n",
    "[1]: ../RAG-tutorial/intro.ipynb\n",
    "[2]: ../LLM-tool-calling/LLM-tool-calling.ipynb"
   ]
  },
  {
   "cell_type": "markdown",
   "id": "604ddb05",
   "metadata": {
    "cell_marker": "\"\"\"",
    "lines_to_next_cell": 0
   },
   "source": [
    "As an example, we will use the [`titanic` dataset](https://jkarakas.github.io/Exploratory-Analysis-of-the-Titanic-Dataset/Titanic_Dataset_Exploratory_Analysis_No_Code.html) in `data/titanic.csv`.\n",
    "\n",
    "First, import the necessary modules from `llama_index`:"
   ]
  },
  {
   "cell_type": "code",
   "execution_count": null,
   "id": "c294e920",
   "metadata": {
    "lines_to_next_cell": 0
   },
   "outputs": [],
   "source": [
    "from llama_index.core.query_pipeline import (QueryPipeline as QP, Link, InputComponent)\n",
    "from llama_index.experimental.query_engine.pandas import PandasInstructionParser\n",
    "from llama_index.llms.ollama import Ollama\n",
    "from llama_index.core import Settings\n",
    "from llama_index.core import PromptTemplate"
   ]
  },
  {
   "cell_type": "markdown",
   "id": "7152ca5b",
   "metadata": {
    "cell_marker": "\"\"\"",
    "lines_to_next_cell": 0
   },
   "source": [
    "then import Pandas and load the dataset:"
   ]
  },
  {
   "cell_type": "code",
   "execution_count": null,
   "id": "c4c1857f",
   "metadata": {},
   "outputs": [],
   "source": [
    "import pandas as pd\n",
    "\n",
    "df = pd.read_csv(\"data/titanic.csv\")"
   ]
  },
  {
   "cell_type": "code",
   "execution_count": null,
   "id": "98a8f0c8",
   "metadata": {
    "lines_to_next_cell": 0
   },
   "outputs": [],
   "source": [
    "df.info()"
   ]
  },
  {
   "cell_type": "code",
   "execution_count": null,
   "id": "8e142ecb",
   "metadata": {
    "lines_to_next_cell": 0
   },
   "outputs": [],
   "source": [
    "df.head()"
   ]
  },
  {
   "cell_type": "markdown",
   "id": "7a9f950d",
   "metadata": {
    "cell_marker": "\"\"\""
   },
   "source": [
    "## LLM instructions (prompts)\n",
    "\n",
    "To get a better understanding of what goes on under the hood, let's look at the prompt _templates_ used:"
   ]
  },
  {
   "cell_type": "code",
   "execution_count": null,
   "id": "16712812",
   "metadata": {},
   "outputs": [],
   "source": [
    "from llama_index.experimental.query_engine import PandasQueryEngine\n",
    "query_engine = PandasQueryEngine(df=df, verbose=True)\n",
    "prompts = query_engine.get_prompts()\n",
    "for key in prompts.keys():\n",
    "    print(key)\n",
    "    print(prompts[key].template)"
   ]
  },
  {
   "cell_type": "markdown",
   "id": "64cf4854",
   "metadata": {
    "cell_marker": "r\"\"\"",
    "lines_to_next_cell": 0
   },
   "source": [
    "First, we have the general instructions:\n",
    "\n",
    "```python\n",
    "instruction_str = (\n",
    "    \"1. Convert the query to executable Python code using Pandas.\\n\"\n",
    "    \"2. The final line of code should be a Python expression that can be called with the `eval()` function.\\n\"\n",
    "    \"3. The code should represent a solution to the query.\\n\"\n",
    "    \"4. PRINT ONLY THE EXPRESSION.\\n\"\n",
    "    \"5. Do not quote the expression.\\n\"\n",
    ")\n",
    "\n",
    "```\n",
    "\n",
    "Then the template that combines 1) information about the dataframe (`df.head()`), 2) the general instructions, and 3) the user query:\n",
    "\n",
    "```python\n",
    "pandas_prompt_str = (\n",
    "    \"You are working with a pandas dataframe in Python.\\n\"\n",
    "    \"The name of the dataframe is `df`.\\n\"\n",
    "    \"This is the result of `print(df.head())`:\\n\"\n",
    "    \"{df_str}\\n\\n\"\n",
    "    \"Follow these instructions:\\n\"\n",
    "    \"{instruction_str}\\n\"\n",
    "    \"Query: {query_str}\\n\\n\"\n",
    "    \"Expression:\"\n",
    ")\n",
    "```\n",
    "\n",
    "\n",
    "After making the tool calls, the code generated and used in the previous step, the resulting output, and the user query is combined into a final prompt:\n",
    "\n",
    "```python\n",
    "response_synthesis_prompt_str = (\n",
    "    \"Given an input question, synthesize a response from the query results.\\n\"\n",
    "    \"Query: {query_str}\\n\\n\"\n",
    "    \"Pandas Instructions (optional):\\n{pandas_instructions}\\n\\n\"\n",
    "    \"Pandas Output: {pandas_output}\\n\\n\"\n",
    "    \"Response: \"\n",
    ")\n",
    "```\n",
    "\n",
    "With that short explanation, let's try it out:"
   ]
  },
  {
   "cell_type": "code",
   "execution_count": null,
   "id": "fd1c2fb1",
   "metadata": {},
   "outputs": [],
   "source": [
    "# prompt(1) in figure\n",
    "pandas_prompt = PromptTemplate(pandas_prompt_str).partial_format(\n",
    "    instruction_str=instruction_str, df_str=df.head(5)\n",
    ")\n",
    "\n",
    "pandas_output_parser = PandasInstructionParser(df)\n",
    "\n",
    "# prompt(2) in figure\n",
    "response_synthesis_prompt = PromptTemplate(response_synthesis_prompt_str)\n",
    "\n",
    "# N.B. at this poinnt, the templates are not fully evaluated\n",
    "# You can evaluate and print prompt(1), but prompt(2) requires output from first LLM processing step\n",
    "print(pandas_prompt)"
   ]
  },
  {
   "cell_type": "markdown",
   "id": "ea5f906c",
   "metadata": {
    "cell_marker": "\"\"\""
   },
   "source": [
    "## Build Query Pipeline\n",
    "\n",
    "<!-- Looks like this: input query_str -> pandas_prompt -> llm1 -> pandas_output_parser -> response_synthesis_prompt -> llm2\n",
    "\n",
    "Additional connections to response_synthesis_prompt: llm1 -> pandas_instructions, and pandas_output_parser -> pandas_output. -->"
   ]
  },
  {
   "cell_type": "code",
   "execution_count": null,
   "id": "07b4bf8e",
   "metadata": {
    "lines_to_next_cell": 2
   },
   "outputs": [],
   "source": [
    "\n",
    "OLLAMA_HOST = 'http://10.129.20.4:9090'\n",
    "OLLAMA_MODEL = 'qwen2.5-coder:latest' # 'deepseek-coder-v2:latest' # 'deepseek-r1:70b' # 'llama3.3:latest'\n",
    "\n",
    "Settings.llm = Ollama(model=OLLAMA_MODEL, base_url=OLLAMA_HOST)\n",
    "\n",
    "llm = Ollama(model=OLLAMA_MODEL, base_url=OLLAMA_HOST)\n",
    "\n",
    "# N.B. It is possible to use different LLMs for the first and secon processing step, but we'll use the smae model for both steps (`llm1` and `llm2` below)\n",
    "query_pipeline = QP(\n",
    "    modules={\n",
    "        \"input\": InputComponent(),\n",
    "        \"pandas_prompt\": pandas_prompt,\n",
    "        \"llm1\": llm,\n",
    "        \"pandas_output_parser\": pandas_output_parser,\n",
    "        \"response_synthesis_prompt\": response_synthesis_prompt,\n",
    "        \"llm2\": llm,\n",
    "    },\n",
    "    verbose=True,\n",
    ")\n",
    "query_pipeline.add_chain([\"input\", \"pandas_prompt\", \"llm1\", \"pandas_output_parser\"])\n",
    "query_pipeline.add_links(\n",
    "    [\n",
    "        Link(\"input\", \"response_synthesis_prompt\", dest_key=\"query_str\"),\n",
    "        Link(\n",
    "            \"llm1\", \"response_synthesis_prompt\", dest_key=\"pandas_instructions\"\n",
    "        ),\n",
    "        Link(\n",
    "            \"pandas_output_parser\",\n",
    "            \"response_synthesis_prompt\",\n",
    "            dest_key=\"pandas_output\",\n",
    "        ),\n",
    "    ]\n",
    ")\n",
    "# add link from response synthesis prompt to llm2\n",
    "query_pipeline.add_link(\"response_synthesis_prompt\", \"llm2\")"
   ]
  },
  {
   "cell_type": "code",
   "execution_count": null,
   "id": "1a5b70d0",
   "metadata": {},
   "outputs": [],
   "source": [
    "response = query_pipeline.run(\n",
    "    query_str=\"What is the correlation between survival and age?\",\n",
    ")"
   ]
  },
  {
   "cell_type": "code",
   "execution_count": null,
   "id": "2f1a2842",
   "metadata": {},
   "outputs": [],
   "source": [
    "print(response.message.content)"
   ]
  },
  {
   "cell_type": "code",
   "execution_count": null,
   "id": "7390e73b",
   "metadata": {},
   "outputs": [],
   "source": [
    "print(df.head())"
   ]
  },
  {
   "cell_type": "code",
   "execution_count": null,
   "id": "3b685f2f",
   "metadata": {},
   "outputs": [],
   "source": [
    "response = query_pipeline.run(\n",
    "    query_str=\"What are the keys of the columns?\",\n",
    ")"
   ]
  },
  {
   "cell_type": "code",
   "execution_count": null,
   "id": "f6f926e1",
   "metadata": {
    "lines_to_next_cell": 2
   },
   "outputs": [],
   "source": [
    "print(response.message.content)"
   ]
  },
  {
   "cell_type": "code",
   "execution_count": null,
   "id": "41dfd1d0",
   "metadata": {
    "lines_to_next_cell": 2
   },
   "outputs": [],
   "source": [
    "response = query_pipeline.run(\n",
    "    query_str=\"What is the key of the column outlining survial?\",\n",
    ")"
   ]
  },
  {
   "cell_type": "code",
   "execution_count": null,
   "id": "2a428745",
   "metadata": {},
   "outputs": [],
   "source": [
    "print(response.message.content)"
   ]
  },
  {
   "cell_type": "code",
   "execution_count": null,
   "id": "4621d8e0",
   "metadata": {
    "lines_to_next_cell": 2
   },
   "outputs": [],
   "source": [
    "response = query_pipeline.run(\n",
    "    query_str=\"Generate python code to plot survival rate versus fare using matplotlib. Choose an appropriate binsize. Show plot as well as code.\",\n",
    ")"
   ]
  },
  {
   "cell_type": "code",
   "execution_count": null,
   "id": "fd459c94",
   "metadata": {},
   "outputs": [],
   "source": [
    "print(response.message.content)"
   ]
  },
  {
   "cell_type": "code",
   "execution_count": null,
   "id": "4827f818",
   "metadata": {},
   "outputs": [],
   "source": [
    "import pandas as pd\n",
    "import matplotlib.pyplot as plt\n",
    "\n",
    "# Assuming df is your DataFrame and it contains 'fare' and 'survived' columns\n",
    "df['fare'] = pd.to_numeric(df['fare'], errors='coerce')  # Ensure fare is numeric\n",
    "df = df.dropna(subset=['fare', 'survived'])  # Drop rows with missing values\n",
    "\n",
    "# Group by fare and calculate the mean survival rate\n",
    "survival_rate_by_fare = df.groupby('fare')['survived'].mean()\n",
    "\n",
    "# Plot the survival rate versus fare\n",
    "plt.figure(figsize=(10, 6))\n",
    "plt.bar(survival_rate_by_fare.index, survival_rate_by_fare.values, color='blue')\n",
    "plt.xlabel('Fare')\n",
    "plt.ylabel('Survival Rate')\n",
    "plt.title('Survival Rate vs Fare')\n",
    "plt.xticks(rotation=45)\n",
    "plt.grid(True)\n",
    "plt.show()"
   ]
  },
  {
   "cell_type": "code",
   "execution_count": null,
   "id": "47df28b9",
   "metadata": {},
   "outputs": [],
   "source": []
  }
 ],
 "metadata": {
  "jupytext": {
   "cell_markers": "\"\"\"",
   "formats": "ipynb,py:percent"
  },
  "kernelspec": {
   "display_name": "Python 3 (ipykernel)",
   "language": "python",
   "name": "python3"
  }
 },
 "nbformat": 4,
 "nbformat_minor": 5
}
