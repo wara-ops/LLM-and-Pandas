{
 "cells": [
  {
   "cell_type": "markdown",
   "id": "b9a6f146",
   "metadata": {
    "cell_marker": "\"\"\"",
    "lines_to_next_cell": 0
   },
   "source": [
    "# Using an LLM to interact with Pandas\n",
    "\n",
    "It is possible to use an LLM to interact with a Pandas dataframe, something that can be useful when encountering a large, new dataset with unfamiliar content. Basically, the scenario can be thought of as a combination of a simple [RAG][1] system combined with [tool-calling][2]. As the tool-calls are fairly complex, we'll make use of the [llamaindex][3] framework to do the [heavy lifting][4].\n",
    "\n",
    "**Caveat**: This is a bleeding edge technique and thus error prone, _and_ it uses python's `eval` function to execute code written by the LLM on your behalf which is a potential security risk. **Consider yourself warned.**\n",
    "\n",
    "[1]: ../RAG-tutorial/intro.ipynb\n",
    "[2]: ../LLM-tool-calling/LLM-tool-calling.ipynb\n",
    "[3]: https://www.llamaindex.ai\n",
    "[4]: https://docs.llamaindex.ai/en/stable/api_reference/query_engine/pandas/"
   ]
  },
  {
   "cell_type": "markdown",
   "id": "3f67414b",
   "metadata": {
    "cell_marker": "\"\"\""
   },
   "source": [
    "The figure below outlines the process, compare it to the figure in the [RAG tutorial][1].\n",
    "\n",
    "![Query pipeline](img/pipeline.png)\n",
    "\n",
    "FIXME: Walkthrough\n",
    "\n",
    "[1]: ../RAG-tutorial/intro.ipynb"
   ]
  },
  {
   "cell_type": "markdown",
   "id": "49f4bdb0",
   "metadata": {
    "cell_marker": "\"\"\"",
    "lines_to_next_cell": 0
   },
   "source": [
    "## Install prerequisites"
   ]
  },
  {
   "cell_type": "code",
   "execution_count": null,
   "id": "f038c595",
   "metadata": {},
   "outputs": [],
   "source": [
    "!pip -q install ollama llama-index llama-index-experimental  llama-index-llms-ollama"
   ]
  },
  {
   "cell_type": "markdown",
   "id": "91b77c80",
   "metadata": {
    "cell_marker": "\"\"\"",
    "lines_to_next_cell": 0
   },
   "source": [
    "## A simple Pandas agent\n",
    "\n",
    "We will use the `titanic` dataset in `data/titanic.csv`, so import Pandas and load the dataset:"
   ]
  },
  {
   "cell_type": "code",
   "execution_count": null,
   "id": "3c6169f8",
   "metadata": {},
   "outputs": [],
   "source": [
    "import pandas as pd\n",
    "\n",
    "df = pd.read_csv(\"data/titanic.csv\")"
   ]
  },
  {
   "cell_type": "code",
   "execution_count": null,
   "id": "aa4716bf",
   "metadata": {},
   "outputs": [],
   "source": [
    "df.info()"
   ]
  },
  {
   "cell_type": "code",
   "execution_count": null,
   "id": "a81a13b1",
   "metadata": {
    "lines_to_next_cell": 0
   },
   "outputs": [],
   "source": [
    "df.head()"
   ]
  },
  {
   "cell_type": "markdown",
   "id": "f948bcaa",
   "metadata": {
    "cell_marker": "\"\"\"",
    "lines_to_next_cell": 0
   },
   "source": [
    "Let's first try a \"vanilla\" call with a simple question about the dataset:"
   ]
  },
  {
   "cell_type": "code",
   "execution_count": null,
   "id": "304d1117",
   "metadata": {},
   "outputs": [],
   "source": [
    "OLLAMA_HOST = 'http://10.129.20.4:9090'\n",
    "OLLAMA_MODEL = 'qwen2.5-coder:latest' # 'deepseek-coder-v2:latest' # 'deepseek-r1:70b' # 'llama3.3:latest'"
   ]
  },
  {
   "cell_type": "code",
   "execution_count": null,
   "id": "323380b6",
   "metadata": {
    "lines_to_next_cell": 0
   },
   "outputs": [],
   "source": [
    "from llama_index.llms.ollama import Ollama\n",
    "from llama_index.core import Settings\n",
    "from llama_index.experimental.query_engine import PandasQueryEngine\n",
    "\n",
    "Settings.llm = Ollama(model=OLLAMA_MODEL, base_url=OLLAMA_HOST)\n",
    "query_engine = PandasQueryEngine(df=df, verbose=False)\n",
    "response = query_engine.query(\n",
    "    \"What is the key for the column outlining survial?\",\n",
    ")"
   ]
  },
  {
   "cell_type": "code",
   "execution_count": null,
   "id": "0b2c521f",
   "metadata": {
    "lines_to_next_cell": 0
   },
   "outputs": [],
   "source": [
    "print(response)"
   ]
  },
  {
   "cell_type": "markdown",
   "id": "ad9580e3",
   "metadata": {
    "cell_marker": "\"\"\""
   },
   "source": [
    "OK, hopefully you got \"Survived\" as response in accordance with the output from `df.info()` above."
   ]
  },
  {
   "cell_type": "markdown",
   "id": "3423cd86",
   "metadata": {
    "cell_marker": "\"\"\""
   },
   "source": [
    "## Query pipelines\n",
    "\n",
    "Let's dig into what just happened in detail by building our own query pipeline from scratch.\n",
    "\n",
    "### Prompt templates\n",
    "\n",
    "We can get the prompt templates used from the query_engine:"
   ]
  },
  {
   "cell_type": "code",
   "execution_count": null,
   "id": "2633e3e9",
   "metadata": {},
   "outputs": [],
   "source": [
    "prompts = query_engine.get_prompts()\n",
    "for key in prompts.keys():\n",
    "    print(f\"--- {key} ---\\n\")\n",
    "    print(prompts[key].template)\n",
    "    print()"
   ]
  },
  {
   "cell_type": "markdown",
   "id": "a0154a31",
   "metadata": {},
   "source": [
    "We could make up our own templates, but for now we'll us them as-is."
   ]
  },
  {
   "cell_type": "code",
   "execution_count": null,
   "id": "b3d72218",
   "metadata": {
    "lines_to_next_cell": 0
   },
   "outputs": [],
   "source": [
    "pandas_prompt_str = (\n",
    "    \"You are working with a pandas dataframe in Python.\\n\"\n",
    "    \"The name of the dataframe is `df`.\\n\"\n",
    "    \"This is the result of `print(df.head())`:\\n\"\n",
    "    \"{df_str}\\n\\n\"\n",
    "    \"Follow these instructions:\\n\"\n",
    "    \"{instruction_str}\\n\"\n",
    "    \"Query: {query_str}\\n\\n\"\n",
    "    \"Expression:\"\n",
    ")\n",
    "\n",
    "response_synthesis_prompt_str = (\n",
    "    \"Given an input question, synthesize a response from the query results.\\n\"\n",
    "    \"Query: {query_str}\\n\\n\"\n",
    "    \"Pandas Instructions (optional):\\n{pandas_instructions}\\n\\n\"\n",
    "    \"Pandas Output: {pandas_output}\\n\\n\"\n",
    "    \"Response: \"\n",
    ")"
   ]
  },
  {
   "cell_type": "markdown",
   "id": "0fe9818a",
   "metadata": {
    "cell_marker": "\"\"\"",
    "lines_to_next_cell": 0
   },
   "source": [
    "The default `instruction_str` is:"
   ]
  },
  {
   "cell_type": "code",
   "execution_count": null,
   "id": "517e0631",
   "metadata": {
    "lines_to_next_cell": 0
   },
   "outputs": [],
   "source": [
    "instruction_str = (\n",
    "    \"1. Convert the query to executable Python code using Pandas.\\n\"\n",
    "    \"2. The final line of code should be a Python expression that can be called with the `eval()` function.\\n\"\n",
    "    \"3. The code should represent a solution to the query.\\n\"\n",
    "    \"4. PRINT ONLY THE EXPRESSION.\\n\"\n",
    "    \"5. Do not quote the expression.\\n\"\n",
    ")"
   ]
  },
  {
   "cell_type": "markdown",
   "id": "c878a367",
   "metadata": {
    "cell_marker": "\"\"\""
   },
   "source": [
    "## Build Query Pipeline\n",
    "\n",
    "<!-- Looks like this: input query_str -> pandas_prompt -> llm1 -> pandas_output_parser -> response_synthesis_prompt -> llm2\n",
    "\n",
    "Additional connections to response_synthesis_prompt: llm1 -> pandas_instructions, and pandas_output_parser -> pandas_output. -->"
   ]
  },
  {
   "cell_type": "code",
   "execution_count": null,
   "id": "3157338e",
   "metadata": {
    "lines_to_next_cell": 2
   },
   "outputs": [],
   "source": [
    "\n",
    "from llama_index.core.query_pipeline import (QueryPipeline as QP, Link, InputComponent)\n",
    "from llama_index.experimental.query_engine.pandas import PandasInstructionParser\n",
    "\n",
    "pandas_prompt = PromptTemplate(pandas_prompt_str).partial_format(\n",
    "    instruction_str=instruction_str, df_str=df.head(5)\n",
    ")\n",
    "\n",
    "response_synthesis_prompt = PromptTemplate(response_synthesis_prompt_str)\n",
    "\n",
    "pandas_output_parser = PandasInstructionParser(df)\n",
    "\n",
    "query_pipeline = QP(\n",
    "    modules={\n",
    "        \"input\": InputComponent(),\n",
    "        \"pandas_prompt\": pandas_prompt,\n",
    "        \"llm1\": llm,\n",
    "        \"pandas_output_parser\": pandas_output_parser,\n",
    "        \"response_synthesis_prompt\": response_synthesis_prompt,\n",
    "        \"llm2\": llm,\n",
    "    },\n",
    "    verbose=True,\n",
    ")\n",
    "\n",
    "query_pipeline.add_chain([\"input\", \"pandas_prompt\", \"llm1\", \"pandas_output_parser\"])\n",
    "\n",
    "query_pipeline.add_links(\n",
    "    [\n",
    "        Link(\"input\", \"response_synthesis_prompt\", dest_key=\"query_str\"),\n",
    "        Link(\n",
    "            \"llm1\", \"response_synthesis_prompt\", dest_key=\"pandas_instructions\"\n",
    "        ),\n",
    "        Link(\n",
    "            \"pandas_output_parser\",\n",
    "            \"response_synthesis_prompt\",\n",
    "            dest_key=\"pandas_output\",\n",
    "        ),\n",
    "    ]\n",
    ")\n",
    "\n",
    "# add link from response synthesis prompt to llm2\n",
    "query_pipeline.add_link(\"response_synthesis_prompt\", \"llm2\")"
   ]
  },
  {
   "cell_type": "code",
   "execution_count": null,
   "id": "b2c3cfb4",
   "metadata": {},
   "outputs": [],
   "source": [
    "response = query_pipeline.run(\n",
    "    query_str=\"What is the key for the column outlining survial?\",\n",
    ")"
   ]
  },
  {
   "cell_type": "code",
   "execution_count": null,
   "id": "7363e580",
   "metadata": {},
   "outputs": [],
   "source": [
    "from llama_index.core.query_pipeline import (QueryPipeline as QP, Link, InputComponent)\n",
    "from llama_index.experimental.query_engine.pandas import PandasInstructionParser\n",
    "from llama_index.llms.ollama import Ollama\n",
    "from llama_index.core import Settings\n",
    "from llama_index.core import PromptTemplate\n",
    "\n",
    "\n",
    "Settings.llm = Ollama(model=OLLAMA_MODEL, base_url=OLLAMA_HOST)"
   ]
  },
  {
   "cell_type": "markdown",
   "id": "79b455cf",
   "metadata": {
    "cell_marker": "\"\"\""
   },
   "source": [
    "## Instructions (prompts)"
   ]
  },
  {
   "cell_type": "code",
   "execution_count": null,
   "id": "9697234b",
   "metadata": {},
   "outputs": [],
   "source": [
    "instruction_str = (\n",
    "    \"1. Convert the query to executable Python code using Pandas.\\n\"\n",
    "    \"2. The final line of code should be a Python expression that can be called with the `eval()` function.\\n\"\n",
    "    \"3. The code should represent a solution to the query.\\n\"\n",
    "    \"4. PRINT ONLY THE EXPRESSION.\\n\"\n",
    "    \"5. Do not quote the expression.\\n\"\n",
    ")\n",
    "\n",
    "pandas_prompt_str = (\n",
    "    \"You are working with a pandas dataframe in Python.\\n\"\n",
    "    \"The name of the dataframe is `df`.\\n\"\n",
    "    \"This is the result of `print(df.head())`:\\n\"\n",
    "    \"{df_str}\\n\\n\"\n",
    "    \"Follow these instructions:\\n\"\n",
    "    \"{instruction_str}\\n\"\n",
    "    \"Query: {query_str}\\n\\n\"\n",
    "    \"Expression:\"\n",
    ")\n",
    "\n",
    "response_synthesis_prompt_str = (\n",
    "    \"Given an input question, synthesize a response from the query results.\\n\"\n",
    "    \"Query: {query_str}\\n\\n\"\n",
    "    \"Pandas Instructions (optional):\\n{pandas_instructions}\\n\\n\"\n",
    "    \"Pandas Output: {pandas_output}\\n\\n\"\n",
    "    \"Response: \"\n",
    ")\n",
    "\n",
    "pandas_prompt = PromptTemplate(pandas_prompt_str).partial_format(\n",
    "    instruction_str=instruction_str, df_str=df.head(5)\n",
    ")\n",
    "pandas_output_parser = PandasInstructionParser(df)\n",
    "response_synthesis_prompt = PromptTemplate(response_synthesis_prompt_str)\n",
    "# llm = OpenAI(model=\"gpt-3.5-turbo\")\n",
    "llm = Ollama(model=OLLAMA_MODEL, base_url=OLLAMA_HOST)"
   ]
  },
  {
   "cell_type": "code",
   "execution_count": null,
   "id": "535b92c8",
   "metadata": {},
   "outputs": [],
   "source": [
    "print(pandas_prompt)"
   ]
  },
  {
   "cell_type": "markdown",
   "id": "cb491030",
   "metadata": {
    "cell_marker": "\"\"\""
   },
   "source": [
    "## Build Query Pipeline\n",
    "\n",
    "Looks like this: input query_str -> pandas_prompt -> llm1 -> pandas_output_parser -> response_synthesis_prompt -> llm2\n",
    "\n",
    "Additional connections to response_synthesis_prompt: llm1 -> pandas_instructions, and pandas_output_parser -> pandas_output.\n",
    "\n",
    "![Query pipeline](img/pipeline.png)"
   ]
  },
  {
   "cell_type": "code",
   "execution_count": null,
   "id": "d95e52e4",
   "metadata": {
    "lines_to_next_cell": 2
   },
   "outputs": [],
   "source": [
    "qp = QP(\n",
    "    modules={\n",
    "        \"input\": InputComponent(),\n",
    "        \"pandas_prompt\": pandas_prompt,\n",
    "        \"llm1\": llm,\n",
    "        \"pandas_output_parser\": pandas_output_parser,\n",
    "        \"response_synthesis_prompt\": response_synthesis_prompt,\n",
    "        \"llm2\": llm,\n",
    "    },\n",
    "    verbose=True,\n",
    ")\n",
    "qp.add_chain([\"input\", \"pandas_prompt\", \"llm1\", \"pandas_output_parser\"])\n",
    "qp.add_links(\n",
    "    [\n",
    "        Link(\"input\", \"response_synthesis_prompt\", dest_key=\"query_str\"),\n",
    "        Link(\n",
    "            \"llm1\", \"response_synthesis_prompt\", dest_key=\"pandas_instructions\"\n",
    "        ),\n",
    "        Link(\n",
    "            \"pandas_output_parser\",\n",
    "            \"response_synthesis_prompt\",\n",
    "            dest_key=\"pandas_output\",\n",
    "        ),\n",
    "    ]\n",
    ")\n",
    "# add link from response synthesis prompt to llm2\n",
    "qp.add_link(\"response_synthesis_prompt\", \"llm2\")"
   ]
  },
  {
   "cell_type": "code",
   "execution_count": null,
   "id": "bdb9b318",
   "metadata": {},
   "outputs": [],
   "source": [
    "response = qp.run(\n",
    "    query_str=\"What is the correlation between survival and age?\",\n",
    ")"
   ]
  },
  {
   "cell_type": "code",
   "execution_count": null,
   "id": "46f5479f",
   "metadata": {},
   "outputs": [],
   "source": [
    "print(response.message.content)"
   ]
  },
  {
   "cell_type": "code",
   "execution_count": null,
   "id": "2c0f6fd8",
   "metadata": {},
   "outputs": [],
   "source": [
    "print(df.head())"
   ]
  },
  {
   "cell_type": "code",
   "execution_count": null,
   "id": "66d871f4",
   "metadata": {},
   "outputs": [],
   "source": [
    "response = qp.run(\n",
    "    query_str=\"What are the keys of the columns?\",\n",
    ")"
   ]
  },
  {
   "cell_type": "code",
   "execution_count": null,
   "id": "6f88bcd3",
   "metadata": {
    "lines_to_next_cell": 2
   },
   "outputs": [],
   "source": [
    "print(response.message.content)"
   ]
  },
  {
   "cell_type": "code",
   "execution_count": null,
   "id": "57aab894",
   "metadata": {
    "lines_to_next_cell": 2
   },
   "outputs": [],
   "source": [
    "response = qp.run(\n",
    "    query_str=\"What is the key of the column outlining survial?\",\n",
    ")"
   ]
  },
  {
   "cell_type": "code",
   "execution_count": null,
   "id": "e8134ef0",
   "metadata": {},
   "outputs": [],
   "source": [
    "print(response.message.content)"
   ]
  },
  {
   "cell_type": "code",
   "execution_count": null,
   "id": "7b348689",
   "metadata": {
    "lines_to_next_cell": 2
   },
   "outputs": [],
   "source": [
    "response = qp.run(\n",
    "    query_str=\"Generate python code to plot survival rate versus fare using matplotlib. Choose an appropriate binsize. Show plot as well as code.\",\n",
    ")"
   ]
  },
  {
   "cell_type": "code",
   "execution_count": null,
   "id": "30668c52",
   "metadata": {},
   "outputs": [],
   "source": [
    "print(response.message.content)"
   ]
  },
  {
   "cell_type": "code",
   "execution_count": null,
   "id": "3919dcc0",
   "metadata": {},
   "outputs": [],
   "source": [
    "import pandas as pd\n",
    "import matplotlib.pyplot as plt\n",
    "\n",
    "# Assuming df is your DataFrame and it contains 'fare' and 'survived' columns\n",
    "df['fare'] = pd.to_numeric(df['fare'], errors='coerce')  # Ensure fare is numeric\n",
    "df = df.dropna(subset=['fare', 'survived'])  # Drop rows with missing values\n",
    "\n",
    "# Group by fare and calculate the mean survival rate\n",
    "survival_rate_by_fare = df.groupby('fare')['survived'].mean()\n",
    "\n",
    "# Plot the survival rate versus fare\n",
    "plt.figure(figsize=(10, 6))\n",
    "plt.bar(survival_rate_by_fare.index, survival_rate_by_fare.values, color='blue')\n",
    "plt.xlabel('Fare')\n",
    "plt.ylabel('Survival Rate')\n",
    "plt.title('Survival Rate vs Fare')\n",
    "plt.xticks(rotation=45)\n",
    "plt.grid(True)\n",
    "plt.show()"
   ]
  },
  {
   "cell_type": "code",
   "execution_count": null,
   "id": "de4a34bd",
   "metadata": {},
   "outputs": [],
   "source": []
  }
 ],
 "metadata": {
  "jupytext": {
   "cell_markers": "\"\"\"",
   "formats": "ipynb,py:percent"
  },
  "kernelspec": {
   "display_name": "Python 3 (ipykernel)",
   "language": "python",
   "name": "python3"
  }
 },
 "nbformat": 4,
 "nbformat_minor": 5
}
